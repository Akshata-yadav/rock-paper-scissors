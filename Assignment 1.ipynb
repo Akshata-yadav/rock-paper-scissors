{
 "cells": [
  {
   "cell_type": "raw",
   "id": "fd185dac",
   "metadata": {},
   "source": [
    "# 1. In the below elements which of them are values or an expression? eg:- values can be integer or string and expressions will be mathematical operators.\n",
    "*\n",
    "'hello';\n",
    "-87.8\n",
    "-\n",
    "/\n",
    "+\n",
    "6\n",
    "\n",
    "Answer) values : 'hello' , -87.8 ,6\n",
    "        expression : * , - , / , + "
   ]
  },
  {
   "cell_type": "raw",
   "id": "6d470392",
   "metadata": {},
   "source": [
    "2)What is the difference between string and variable?\n",
    "\n",
    "Answer)variable is the name given to a memory location.  \n",
    "       variables are used to store the data.\n",
    "       A variable is created the moment you assign value to it.\n",
    "       Example of variable :\n",
    "                     x = 2\n",
    "                     y = 6\n",
    "                     print(x)\n",
    "       \n",
    "       \n",
    "    string is a data type in python which is a sequence of character and string is the data to fill up a variable.\n",
    "    Example of String:\n",
    "    a = \"Hello World\"\n",
    "    print(a)\n",
    "\n"
   ]
  },
  {
   "cell_type": "raw",
   "id": "003b43b1",
   "metadata": {},
   "source": [
    "3)Describe three different data types.\n",
    "Answer) List : list is one of the built data type in python. \n",
    "               list is represented by square bracket[].\n",
    "               list is used to store collection of data.\n",
    "               list is mutable i.e the values can be updated. list uses indexing for acessing the element.\n",
    "               list allow duplicacy i.e the elements in the list can have same values or data type. \n",
    "               \n",
    "               1) creating the list and printing it.\n",
    "               l = [1,23,4.8,'ai']\n",
    "               print(l)\n",
    "               \n",
    "               2) accessing element of the list.\n",
    "               print(l[2])\n",
    "               \n",
    "               3) updating the value \n",
    "                print(l[2]) = 6\n",
    "               \n",
    "        \n",
    "        Tuple : tuple is one of the built in data type in python.\n",
    "                 tuple is represented by round bracket.\n",
    "                 tuple is used to store collection of data.\n",
    "                 tuple is immutable i.e values cannot be updated(i.e adding or revoming the eleement cannot be done once it is \n",
    "                 created.\n",
    "                 \n",
    "                 1) creating tuple and printing it \n",
    "                    t = (1,'akshata','0.9,True)\n",
    "                    print(t)\n",
    "                    \n",
    "                 2) accesing element of the tuple.\n",
    "                    print(t[2])\n",
    "                    \n",
    "        Dictionary : Dictionary is basically key value pair.\n",
    "                     The element in the dictionary can be accessed using the key of the dictionary.\n",
    "                     \n",
    "                     1) creating and printing element of the dictionary\n",
    "                     thisdict = {\"name\" : \"Ram\",\n",
    "                                    \"course\" : \"ai\",\n",
    "                                    \"age\" : 21}\n",
    "                       print(thisdict)\n",
    "                       \n",
    "                    2) Accessing element using key \n",
    "                       print(thisdict[\"name\"])\n",
    "                    \n",
    "                    3) changing the value of the element.\n",
    "                       print(thisdict[\"course\"]) = \"ml\"\n",
    "                       print(thisdict)\n",
    "                       \n",
    "                     Dictionary cannot have two element with the same key.\n",
    "                       \n",
    "                     \n",
    "                   "
   ]
  },
  {
   "cell_type": "raw",
   "id": "ae919f24",
   "metadata": {},
   "source": [
    "4) What is an expression made up of? What do all expressions do? \n",
    "\n",
    "Answer1)An expression is a combination of operators and operands that is interpreted to produce some other value.\n",
    "       Expressions are representations of value.\n",
    "      They are different from statement in the fact that statements do something \n",
    "      while expressions are representation of value. \n",
    "      For example any string is also an expressions since it represents the value of the string as well.\n",
    "        \n",
    "   2) Python expressions only contain identifiers, literals, and operators.\n",
    "\n",
    "    3)Identifiers: Any name that is used to define a class, function, variable module, or object is an identifier.\n",
    "        \n",
    "    4)Literals: These are language-independent terms in Python and should exist independently in any programming language. \n",
    "        \n",
    "    5) In Python, there are the string literals, byte literals, integer literals, floating point literals, and imaginary        literals.\n",
    "    \n",
    "   6) Operators: they are used to perform operations on variable or values.\n",
    "                \n",
    "                    x + y : Addition\n",
    "                    x – y : Subtraction\n",
    "                    x * y : Multiplication\n",
    "                    x / y : Division\n",
    "                    x // y :Quotient\n",
    "                    x % y : Remainder\n",
    "                    x ** y : Exponentiation\n",
    "                    x<<y: Binary left shift\t<<\n",
    "                    x>> y  :Binary right shift\t>>\n",
    "                    x and y : and \n",
    "                    x or y : or\n",
    "                    x Xor y : Binary Xor\n",
    "                    x < y : less than \n",
    "                    x > y : greater than \n",
    "                    x <= y : less than or equal\n",
    "                    x >= y : greater than or equal\n",
    "                    x == y : equal\n",
    "                    x!=y : not equal\n",
    "                        \n",
    "                    \n"
   ]
  },
  {
   "cell_type": "raw",
   "id": "569fa8ce",
   "metadata": {},
   "source": [
    "5. This assignment statements, like spam = 10. What is the difference between an\n",
    "expression and a statement?\n",
    "\n",
    "Answer) 1) Expressions are representations of value. \n",
    "        2)The difference between an expression and statement is  the fact that statements do something\n",
    "         while expressions are representation of value.\n",
    "        3)For example any string is also an expressions since it represents the value of the string as well.\n",
    "        4)Python has some advanced constructs through which you can represent values\n",
    "           and hence these constructs are also called expressions.\n",
    "        5) A statement is an instruction that the Python interpreter can execute.\n",
    "        We have seen two kinds of statements: print and assignment"
   ]
  },
  {
   "cell_type": "raw",
   "id": "926aaff6",
   "metadata": {},
   "source": [
    "6. After running the following code, what does the variable bacon contain?\n",
    "bacon = 22\n",
    "bacon + 1\n",
    "\n",
    "Answer) After running the given code the variable bacon contain  22."
   ]
  },
  {
   "cell_type": "raw",
   "id": "edb9fb4b",
   "metadata": {},
   "source": [
    "7. What should the values of the following two terms be?\n",
    "   'spam' + 'spamspam'\n",
    "    'spam' *3\n",
    "    \n",
    "Answer) The value of the following two terms will be 'spamspamspam' for both."
   ]
  },
  {
   "cell_type": "raw",
   "id": "1458dbd0",
   "metadata": {},
   "source": [
    "8. Why is eggs a valid variable name while 100 is invalid?\n",
    "\n",
    "Answer) Eggs is a valid variable name while 100 is invalid because variabla name cannot start with a number."
   ]
  },
  {
   "cell_type": "raw",
   "id": "2e5d694c",
   "metadata": {},
   "source": [
    "9.What three functions can be used to get the integer, floating-point number, or string\n",
    "version of a value?\n",
    "Answer) The int() , float() , and str( ) functions are the three functions that can be used to get the integer , \n",
    "        floating-point number , or string version of a value.\n",
    "    \n"
   ]
  },
  {
   "cell_type": "raw",
   "id": "b17a0de5",
   "metadata": {},
   "source": [
    "10 Why does this expression cause an error? How can you fix it?\n",
    "'I have eaten'+99+'burritos'\n",
    "\n",
    "Answer) This expression cause an error becausing we are trying to concatenate string with integer "
   ]
  }
 ],
 "metadata": {
  "kernelspec": {
   "display_name": "Python 3 (ipykernel)",
   "language": "python",
   "name": "python3"
  },
  "language_info": {
   "codemirror_mode": {
    "name": "ipython",
    "version": 3
   },
   "file_extension": ".py",
   "mimetype": "text/x-python",
   "name": "python",
   "nbconvert_exporter": "python",
   "pygments_lexer": "ipython3",
   "version": "3.9.7"
  }
 },
 "nbformat": 4,
 "nbformat_minor": 5
}
